{
 "cells": [
  {
   "cell_type": "markdown",
   "metadata": {
    "isInteractiveWindowMessageCell": true
   },
   "source": [
    "Connected to Rust"
   ]
  },
  {
   "cell_type": "markdown",
   "metadata": {},
   "source": [
    "1. Hello World"
   ]
  },
  {
   "cell_type": "code",
   "execution_count": 8,
   "metadata": {},
   "outputs": [],
   "source": [
    "fn main(){\n",
    "    println!(\"Hello World !\");\n",
    "}"
   ]
  },
  {
   "cell_type": "code",
   "execution_count": 9,
   "metadata": {},
   "outputs": [
    {
     "name": "stdout",
     "output_type": "stream",
     "text": [
      "Hello World !\n"
     ]
    }
   ],
   "source": [
    "main();"
   ]
  },
  {
   "cell_type": "markdown",
   "metadata": {},
   "source": [
    "RUST formatter => rustfmt"
   ]
  },
  {
   "cell_type": "markdown",
   "metadata": {},
   "source": [
    "bash inside jupyter use plugin  git-bash "
   ]
  },
  {
   "cell_type": "code",
   "execution_count": null,
   "metadata": {},
   "outputs": [],
   "source": []
  },
  {
   "cell_type": "code",
   "execution_count": 10,
   "metadata": {},
   "outputs": [
    {
     "ename": "Error",
     "evalue": "cannot find value `ls` in this scope",
     "output_type": "error",
     "traceback": [
      "\u001b[31m[E0425] Error:\u001b[0m cannot find value `ls` in this scope",
      "   \u001b[38;5;246m╭\u001b[0m\u001b[38;5;246m─\u001b[0m\u001b[38;5;246m[\u001b[0mcommand_10:1:1\u001b[38;5;246m]\u001b[0m",
      "   \u001b[38;5;246m│\u001b[0m",
      " \u001b[38;5;246m1 │\u001b[0m \u001b[38;5;54ml\u001b[0m\u001b[38;5;54ms\u001b[0m",
      " \u001b[38;5;240m  │\u001b[0m \u001b[38;5;54m─\u001b[0m\u001b[38;5;54m┬\u001b[0m  ",
      " \u001b[38;5;240m  │\u001b[0m  \u001b[38;5;54m╰\u001b[0m\u001b[38;5;54m─\u001b[0m\u001b[38;5;54m─\u001b[0m not found in this scope",
      "\u001b[38;5;246m───╯\u001b[0m"
     ]
    }
   ],
   "source": [
    "ls"
   ]
  },
  {
   "cell_type": "code",
   "execution_count": null,
   "metadata": {},
   "outputs": [
    {
     "name": "stdout",
     "output_type": "stream",
     "text": [
      "Format Rust code\n",
      "\n",
      "usage: rustfmt [options] <file>...\n",
      "\n",
      "Options:\n",
      "        --check         Run in 'check' mode. Exits with 0 if input is\n",
      "                        formatted correctly. Exits with 1 and prints a diff if\n",
      "                        formatting is required.\n",
      "        --emit [files|stdout]\n",
      "                        What data to emit and how\n",
      "        --backup        Backup any modified files.\n",
      "        --config-path [Path for the configuration file]\n",
      "                        Recursively searches the given path for the\n",
      "                        rustfmt.toml config file. If not found reverts to the\n",
      "                        input file path\n",
      "        --edition [2015|2018|2021]\n",
      "                        Rust edition to use\n",
      "        --color [always|never|auto]\n",
      "                        Use colored output (if supported)\n",
      "        --print-config [default|minimal|current] PATH\n",
      "                        Dumps a default or minimal config to PATH. A minimal\n",
      "                        config is the subset of the current config file used\n",
      "                        for formatting the current program. `current` writes\n",
      "                        to stdout current config as if formatting the file at\n",
      "                        PATH.\n",
      "    -l, --files-with-diff \n",
      "                        Prints the names of mismatched files that were\n",
      "                        formatted. Prints the names of files that would be\n",
      "                        formatted when used with `--check` mode.\n",
      "        --config [key1=val1,key2=val2...]\n",
      "                        Set options from command line. These settings take\n",
      "                        priority over .rustfmt.toml\n",
      "    -v, --verbose       Print verbose output\n",
      "    -q, --quiet         Print less output\n",
      "    -V, --version       Show version information\n",
      "    -h, --help [=TOPIC] Show this message or help about a specific topic:\n",
      "                        `config`\n",
      "\n"
     ]
    }
   ],
   "source": [
    "rustfmt --help\n"
   ]
  },
  {
   "cell_type": "code",
   "execution_count": null,
   "metadata": {},
   "outputs": [
    {
     "name": "stdout",
     "output_type": "stream",
     "text": [
      "\n"
     ]
    }
   ],
   "source": [
    "rustfmt --check"
   ]
  },
  {
   "cell_type": "markdown",
   "metadata": {},
   "source": [
    "os.getcwd() "
   ]
  },
  {
   "cell_type": "code",
   "execution_count": null,
   "metadata": {},
   "outputs": [],
   "source": [
    "fn main_world(){println!(\"Hallo World main!\")}"
   ]
  },
  {
   "cell_type": "code",
   "execution_count": 5,
   "metadata": {},
   "outputs": [
    {
     "name": "stdout",
     "output_type": "stream",
     "text": [
      "bash: fg: %rust: Kein solcher Job.\n"
     ]
    },
    {
     "name": "stdout",
     "output_type": "stream",
     "text": [
      "bash: Syntaxfehler beim unerwarteten Wort »;«\n"
     ]
    },
    {
     "ename": "",
     "evalue": "2",
     "output_type": "error",
     "traceback": []
    }
   ],
   "source": [
    "main_world();"
   ]
  },
  {
   "cell_type": "code",
   "execution_count": 2,
   "metadata": {},
   "outputs": [
    {
     "name": "stdout",
     "output_type": "stream",
     "text": [
      "bash: fg: %use: Kein solcher Job.\n"
     ]
    },
    {
     "name": "stdout",
     "output_type": "stream",
     "text": [
      "insgesamt 28\n",
      "-rw-rw-r-- 1 trapapa trapapa  160 Mär 11 14:08 Cargo.lock\n",
      "-rw-rw-r-- 1 trapapa trapapa  185 Mär 11 14:07 Cargo.toml\n",
      "drwxrwxr-x 2 trapapa trapapa 4096 Mär 11 14:13 examples\n",
      "-rw-rw-r-- 1 trapapa trapapa 7184 Mär 11 15:43 rust_inside_jupyter.ipynb\n",
      "drwxrwxr-x 2 trapapa trapapa 4096 Mär 11 14:07 src\n",
      "drwxrwxr-x 3 trapapa trapapa 4096 Mär 11 14:08 target\n"
     ]
    }
   ],
   "source": [
    "%use bash\n",
    "ls -l"
   ]
  }
 ],
 "metadata": {
  "kernelspec": {
   "display_name": "Rust",
   "language": "rust",
   "name": "rust"
  },
  "language_info": {
   "codemirror_mode": "shell",
   "file_extension": ".sh",
   "mimetype": "text/x-sh",
   "name": "rust"
  }
 },
 "nbformat": 4,
 "nbformat_minor": 2
}
