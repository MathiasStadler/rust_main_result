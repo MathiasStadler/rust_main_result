{
 "cells": [
  {
   "cell_type": "markdown",
   "metadata": {
    "isInteractiveWindowMessageCell": true
   },
   "source": [
    "Connected to Rust"
   ]
  },
  {
   "cell_type": "markdown",
   "metadata": {},
   "source": [
    "1. Hello World"
   ]
  },
  {
   "cell_type": "code",
   "execution_count": null,
   "metadata": {
    "vscode": {
     "languageId": "shellscript"
    }
   },
   "outputs": [],
   "source": [
    "fn main(){\n",
    "    println!(\"Hello World !\");\n",
    "}"
   ]
  },
  {
   "cell_type": "code",
   "execution_count": null,
   "metadata": {
    "vscode": {
     "languageId": "shellscript"
    }
   },
   "outputs": [],
   "source": [
    "main();"
   ]
  },
  {
   "cell_type": "markdown",
   "metadata": {},
   "source": [
    "RUST formatter => rustfmt"
   ]
  },
  {
   "cell_type": "markdown",
   "metadata": {},
   "source": [
    "bash inside jupyter use plugin  git-bash "
   ]
  },
  {
   "cell_type": "code",
   "execution_count": null,
   "metadata": {
    "vscode": {
     "languageId": "shellscript"
    }
   },
   "outputs": [],
   "source": []
  },
  {
   "cell_type": "code",
   "execution_count": 1,
   "metadata": {
    "vscode": {
     "languageId": "shellscript"
    }
   },
   "outputs": [
    {
     "name": "stdout",
     "output_type": "stream",
     "text": [
      "Cargo.lock  Cargo.toml  examples  rust_inside_jupyter.ipynb  src  target\n"
     ]
    }
   ],
   "source": [
    "ls"
   ]
  },
  {
   "cell_type": "code",
   "execution_count": 2,
   "metadata": {
    "vscode": {
     "languageId": "shellscript"
    }
   },
   "outputs": [
    {
     "name": "stdout",
     "output_type": "stream",
     "text": [
      "Format Rust code\n",
      "\n",
      "usage: rustfmt [options] <file>...\n",
      "\n",
      "Options:\n",
      "        --check         Run in 'check' mode. Exits with 0 if input is\n",
      "                        formatted correctly. Exits with 1 and prints a diff if\n",
      "                        formatting is required.\n",
      "        --emit [files|stdout]\n",
      "                        What data to emit and how\n",
      "        --backup        Backup any modified files.\n",
      "        --config-path [Path for the configuration file]\n",
      "                        Recursively searches the given path for the\n",
      "                        rustfmt.toml config file. If not found reverts to the\n",
      "                        input file path\n",
      "        --edition [2015|2018|2021]\n",
      "                        Rust edition to use\n",
      "        --color [always|never|auto]\n",
      "                        Use colored output (if supported)\n",
      "        --print-config [default|minimal|current] PATH\n",
      "                        Dumps a default or minimal config to PATH. A minimal\n",
      "                        config is the subset of the current config file used\n",
      "                        for formatting the current program. `current` writes\n",
      "                        to stdout current config as if formatting the file at\n",
      "                        PATH.\n",
      "    -l, --files-with-diff \n",
      "                        Prints the names of mismatched files that were\n",
      "                        formatted. Prints the names of files that would be\n",
      "                        formatted when used with `--check` mode.\n",
      "        --config [key1=val1,key2=val2...]\n",
      "                        Set options from command line. These settings take\n",
      "                        priority over .rustfmt.toml\n",
      "    -v, --verbose       Print verbose output\n",
      "    -q, --quiet         Print less output\n",
      "    -V, --version       Show version information\n",
      "    -h, --help [=TOPIC] Show this message or help about a specific topic:\n",
      "                        `config`\n",
      "\n"
     ]
    }
   ],
   "source": [
    "rustfmt --help\n"
   ]
  }
 ],
 "metadata": {
  "kernelspec": {
   "display_name": "Bash",
   "language": "bash",
   "name": "bash"
  },
  "language_info": {
   "codemirror_mode": "shell",
   "file_extension": ".sh",
   "mimetype": "text/x-sh",
   "name": "bash"
  }
 },
 "nbformat": 4,
 "nbformat_minor": 2
}
